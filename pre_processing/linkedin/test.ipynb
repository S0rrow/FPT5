{
 "cells": [
  {
   "cell_type": "markdown",
   "metadata": {},
   "source": [
    "### TODO: \n",
    "- branch명은 features/data-preprocessing/[사이트명]\n",
    "- 배포한 `1차 전처리 정책` 문서를 기반으로 각 사이트에 맞게끔 전처리\n",
    "- 전처리 이후 스키마 포맷 및 column명은 `정제 데이터 스키마` 문서의 `Table1 스키마 정의`를 따를 것\n",
    "- DynamoDB적재를 위해  Table1에서 column에 대응되는 key 값이 `-`인 것은 null값이므로 따로 key 생성하지 말 것\n",
    "- 생성한 json 데이터는 `s3:merged-data-storage`에 적재 (이부분은 기능 구현 후 코드 제공할 예정)\n",
    "\n",
    "### REQUIRE:\n",
    "- 최종적인 데이터는 `{\"item\": {...}}` 형태를 띈 json 포맷이여야 함\n",
    "- 출처사이트 url, 출처 사이트 심볼 key가 없을 결우 추가할 것(심볼은 Table1 스키마 정의에서 참고)\n",
    "- 최종적인 key(column) 갯수는 최대 20개로 예상"
   ]
  },
  {
   "cell_type": "code",
   "execution_count": 13,
   "metadata": {},
   "outputs": [],
   "source": [
    "import json, boto3, datetime, re, pytz\n",
    "import pandas as pd"
   ]
  },
  {
   "cell_type": "code",
   "execution_count": 27,
   "metadata": {},
   "outputs": [],
   "source": [
    "# S3 client 생성에 필요한 보안 자격 증명 정보 get\n",
    "with open(\"./API_KEYS.json\", \"r\") as f:\n",
    "    key = json.load(f)\n",
    "\n",
    "# S3 버킷 정보 get\n",
    "with open(\"./DATA_SRC_INFO.json\", \"r\") as f:\n",
    "    bucket_info = json.load(f)"
   ]
  },
  {
   "cell_type": "code",
   "execution_count": 3,
   "metadata": {},
   "outputs": [],
   "source": [
    "# S3 섹션 및 client 생성\n",
    "session = boto3.Session(\n",
    "    aws_access_key_id=key['aws_access_key_id'],\n",
    "    aws_secret_access_key=key['aws_secret_key'],\n",
    "    region_name=key['region']\n",
    ")\n",
    "\n",
    "s3 = session.client('s3')"
   ]
  },
  {
   "cell_type": "code",
   "execution_count": 28,
   "metadata": {},
   "outputs": [],
   "source": [
    "# S3 버킷 정보 init\n",
    "pull_bucket_name = bucket_info['pull_bucket_name']\n",
    "push_bucket_name = bucket_info['push_bucket_name']\n",
    "target_folder_prefix = bucket_info['target_folder_prefix']['wanted_path']"
   ]
  },
  {
   "cell_type": "code",
   "execution_count": 15,
   "metadata": {},
   "outputs": [],
   "source": [
    "# 특정 폴더 내 파일 목록 가져오기\n",
    "# TODO: \n",
    "# - 마지막 실행일(년,월,일)을 datetime으로 저장한 파일을 읽어들여 curr_date에 적용하기; 당담: 유정연\n",
    "response = s3.list_objects_v2(Bucket=pull_bucket_name, Prefix=target_folder_prefix, Delimiter='/')\n",
    "curr_date = datetime.datetime.now(pytz.timezone('Asia/Seoul')).date()  # 로컬 시간대(UTC+9)로 현재 날짜 설정\n",
    "kst_tz = pytz.timezone('Asia/Seoul') # kst timezone 설정\n",
    "#curr_date = datetime.date(2024, 8, 21)\n",
    "\n",
    "# curr_date 보다 날짜가 늦은 data josn 파일 metadata 객체 분류\n",
    "if 'Contents' in response:\n",
    "    target_file_list = [obj for obj in response['Contents'] if curr_date <= obj['LastModified'].astimezone(kst_tz).date()]\n",
    "else:\n",
    "    print(\"No objects found in the folder.\")"
   ]
  },
  {
   "cell_type": "code",
   "execution_count": 22,
   "metadata": {},
   "outputs": [],
   "source": [
    "for obj in target_file_list:\n",
    "    try:\n",
    "        response = s3.get_object(Bucket=pull_bucket_name, Key=obj['Key'])\n",
    "        json_context = response['Body'].read().decode('utf-8')\n",
    "        cleaned_text = re.sub(r'[\\r\\u2028\\u2029]+', ' ', json_context) # 파싱을 위해 unuseal line terminators 제거\n",
    "        json_list = [json.loads(line) for line in cleaned_text.strip().splitlines()] # pandas format으로 맞추기\n",
    "        df = pd.DataFrame(json_list)\n",
    "    except JSONDecodeError as e:\n",
    "        logging.error(f\"JSONDecodeError encountered: {e}\")\n",
    "        continue\n",
    "    except ClientError as e:\n",
    "        logging.error(f\"ClientError encountered: {e}\")\n",
    "        continue\n",
    "    except Exception as e:\n",
    "        logging.error(f\"An unexpected error occurred: {e}\")\n",
    "        continue\n",
    "    \n",
    "    break"
   ]
  }
 ],
 "metadata": {
  "kernelspec": {
   "display_name": "Python 3 (ipykernel)",
   "language": "python",
   "name": "python3"
  },
  "language_info": {
   "codemirror_mode": {
    "name": "ipython",
    "version": 3
   },
   "file_extension": ".py",
   "mimetype": "text/x-python",
   "name": "python",
   "nbconvert_exporter": "python",
   "pygments_lexer": "ipython3",
   "version": "3.10.12"
  }
 },
 "nbformat": 4,
 "nbformat_minor": 2
}
