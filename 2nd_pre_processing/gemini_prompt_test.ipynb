{
 "cells": [
  {
   "cell_type": "code",
   "execution_count": 1,
   "metadata": {},
   "outputs": [],
   "source": [
    "import json, boto3, logging\n",
    "from botocore.exceptions import ClientError"
   ]
  },
  {
   "cell_type": "code",
   "execution_count": 2,
   "metadata": {},
   "outputs": [],
   "source": [
    "with open(\"./.KEYS/API_KEYS.json\", \"r\") as f:\n",
    "    key = json.load(f)\n",
    "\n",
    "# S3 버킷 정보 get\n",
    "with open(\"./.KEYS/DATA_SRC_INFO.json\", \"r\") as f:\n",
    "    bucket_info = json.load(f)\n",
    "\n",
    "with open(\"./.KEYS/GEMINI_API_KEY.json\", \"r\") as f:\n",
    "    gemini_api_key = json.load(f)"
   ]
  },
  {
   "cell_type": "code",
   "execution_count": 3,
   "metadata": {},
   "outputs": [],
   "source": [
    "dynamo_table_name = bucket_info['restore_table_name']"
   ]
  },
  {
   "cell_type": "code",
   "execution_count": 4,
   "metadata": {},
   "outputs": [],
   "source": [
    "dynamodb = boto3.resource(\n",
    "        'dynamodb',\n",
    "        aws_access_key_id=key['aws_access_key_id'],\n",
    "        aws_secret_access_key=key['aws_secret_key'],\n",
    "        region_name=key['region']\n",
    "    )\n",
    "table = dynamodb.Table(dynamo_table_name)"
   ]
  },
  {
   "cell_type": "code",
   "execution_count": 5,
   "metadata": {},
   "outputs": [],
   "source": [
    "scan_kwargs = {}\n",
    "data = []"
   ]
  },
  {
   "cell_type": "code",
   "execution_count": 6,
   "metadata": {},
   "outputs": [],
   "source": [
    "# Pagination을 고려하여 모든 데이터를 가져오기\n",
    "while True:\n",
    "    response = table.scan(**scan_kwargs)\n",
    "    data.extend(response.get('Items', []))\n",
    "    scan_kwargs['ExclusiveStartKey'] = response.get('LastEvaluatedKey', None)\n",
    "    if not scan_kwargs['ExclusiveStartKey']:\n",
    "        break"
   ]
  },
  {
   "cell_type": "code",
   "execution_count": 15,
   "metadata": {},
   "outputs": [],
   "source": [
    "wanted_data = [obj for obj in data if obj.get('site_symbol', '').upper() == \"WAN\"]\n",
    "jobkorea_data = [obj for obj in data if obj.get('site_symbol', '').upper() == \"JK\"]\n",
    "rocketpunch_data = [obj for obj in data if obj.get('site_symbol', '').upper() == \"RP\"]"
   ]
  },
  {
   "cell_type": "code",
   "execution_count": 8,
   "metadata": {},
   "outputs": [
    {
     "data": {
      "text/plain": [
       "\"{'company_id': Decimal('18028'), 'site_symbol': 'WAN', 'job_title': '정보보안 담당자', 'job_prefer': '정보보호 관련 학과 및 IT 관련학 전공 클라우드 보안솔루션 운영 경험이 있으신 분 인프라 취약점 점검 및 웹 모의해킹 수행 가능하신 분 ISO27701, ISMS-P 보안인증 대응 경험이 있으신 분 ISMS-P 인증심사원, CPPG, CISA, CISSP, 정보보안기사 자격증을 보유하신 분', 'crawl_url': 'https://www.wanted.co.kr/wd/230608', 'end_date': None, 'job_id': Decimal('230608'), 'crawl_domain': 'www.wanted.co.kr', 'company_name': '차란차', 'get_date': Decimal('1724605651'), 'job_tasks': '정보보호 관련 규정,지침,정책을 수립, 관리 및 운영 정보보호 교육 계획을 수립하고 운영 개인정보위원회, 한국인터넷진흥원 등 외부 감사와 이슈 대응 ISMS-P 인증 준비 및 대응 활동 접근통제, 사내 보안 업무를 수행', 'id': Decimal('2581867662'), 'job_requirements': '5년 이상 10년 이하의 정보보호 업무 경험이 있으신 분 외부 감사 대응 경험이 있으신 분 ISMS-P 인증 경험이 있으신 분 다양한 플랫폼의 Public/Private Cloud 인프라 보안정책 설정 경험이 있으신 분 보안 솔루션 접근통제, 방화벽, 사용자 보안, VPN 경험이 있으신 분 개인정보처리시스템 현황 파악 및 관리 경험이 있으신 분 개인정보보호 정책, 지침 및 가이드에 대한 수립, 운영 및 관리 경험이 있으신 분'}\""
      ]
     },
     "execution_count": 8,
     "metadata": {},
     "output_type": "execute_result"
    }
   ],
   "source": [
    "str(wanted_data[5])"
   ]
  },
  {
   "cell_type": "code",
   "execution_count": 9,
   "metadata": {},
   "outputs": [
    {
     "data": {
      "text/plain": [
       "\"{'indurstry_type': '소프트웨어 자문,개발,공급/컴퓨터주변기기 도소매', 'site_symbol': 'JK', 'job_title': '광화문 흥국생명 차세대시스템 구축 Java, BXM 프레임웍, 융자업무 관련 경험자를 모집 합니다. (s01)', 'job_category': '응용 소프트웨어 개발 및 공급업', 'crawl_url': 'https://www.jobkorea.co.kr/Recruit/GI_Read/45423573', 'end_date': '1724598000', 'required_career': False, 'job_id': '45423573', 'company_name': '행복추구 패러다임㈜kcms', 'resume_required': True, 'start_date': '1724511600', 'get_date': Decimal('1724605790'), 'job_tasks': '광화문 흥국생명 차세대시스템 구축', 'id': Decimal('2352333735'), 'stacks': 'JAVA, BXM 프레임웍, 융자업무 관련 경험자'}\""
      ]
     },
     "execution_count": 9,
     "metadata": {},
     "output_type": "execute_result"
    }
   ],
   "source": [
    "str(jobkorea_data[3])"
   ]
  },
  {
   "cell_type": "code",
   "execution_count": 16,
   "metadata": {},
   "outputs": [
    {
     "data": {
      "text/plain": [
       "{'indurstry_type': '플랫폼',\n",
       " 'site_symbol': 'RP',\n",
       " 'crawl_url': 'https://www.rocketpunch.com/jobs/151639',\n",
       " 'start_date': Decimal('1724166000'),\n",
       " 'get_date': Decimal('1724227352'),\n",
       " 'job_tasks': '이런 업무를 함께해요 SNS 자동화 솔루션 모두그램 리뉴얼 프론트엔드 개발- SNS 기반 재택부업 서비스 뷰업 리뉴얼 프론트엔드 개발- 개발 중이거나 개발된 프로젝트의 코드 품질 개선 및 리팩토링',\n",
       " 'required_career': False,\n",
       " 'id': Decimal('1777632098'),\n",
       " 'crawl_domain': 'www.rocketpunch.com',\n",
       " 'job_requirements': '스마일드래곤의 핵심 서비스를 개발하는 프론트엔드 팀에 합류하실 분을 모집합니다 저희는 이런 환경에서 일해요 개발팀 내부적으로 Slack 을 통한 커뮤니케이션이 이루어집니다.- Pull Request 는 반드시 팀원들의 코드 리뷰를 받고 이루어집니다.- Notion 을 통해 프로젝트 진행상황 및 정보를 관리합니다.- Docker 를 통해 개발환경을 단일화합니다.- GitHub Actions 를 통해 프로젝트 빌드 및 배포 자동화가 진행됩니다.- 사내 Kubernetes Helm Argo CD 환경으로 배포가 이루어집니다. 저희는 이런 기술을 사용해요 Next.js, TypeScript, Emotion, Zustand, React Query- Yarn Berry, pnpm, Rollup.js, Jest, Cypress더욱 자세한 기술스택은 https //stackshare.io/companies/smiledragon 에서 확인하실 수 있어요 이런 분과 함께하고 싶어요 3년 이상의 프론트엔드 개발 경험 혹은 그에 상응하는 실력을 갖추신 분- HTML5, CSS, JavaScript, TypeScript 에 대한 기본 지식을 보유하신 분- React, Next.js 를 활용한 개발 경험이 있으신 분- 하나 이상의 프론트엔드 프로젝트에 대한 설계, 개발, 배포, 운영 경험이 있으신 분- Git 과 GitHub 를 통한 버전 관리 시스템 이용에 능숙하신 분- 더 나은 코드나 개발방법을 찾는 것을 즐기시는 분비즈니스 속도에 대한 이해를 기반으로 의사결정을 할 수 있으신 분 이런 분이면 더욱 좋아요 Next.js 를 활용한 SSR 개발 경험이 있으신 분- 프론트엔드 성능 최적화 및 테스트 코드 작성 경험이 있으신 분- Emotion, styled-components 와 같은 CSS-in-JS 방식으로 스타일링 해본 경험이 있으신 분- Docker 환경에서의 개발 경험이 있으신 분- CI/CD를 통한 배포 사이클을 경험해본 적이 있으신 분- 반응형 웹, SEO, 웹 접근성, 웹 표준 관련 개선 경험이 있으신 분- Storybook 을 활용한 컴포넌트 주도 개발 경험이 있으신 분 혜택 및 복지ㆍ 점심시간 80분 여유있게 식사하고 남은 시간은 쉬거나 개인 일 보시면 돼요 ㆍ 편리한 휴가 제도 연차는 하루 전 날, 반차는 당일날 신청해도 쓸 수 있어요 ㆍ 희망도서 상시 구매 앞으로 책은 회사에서 사는 걸로 ㆍ 아난티 펜트하우스 (6성급 호텔) 누구나 이용 가능.ㆍ 중식 무료 제공 1년 기준, 240만 원 상당 아낄 수 있어요.ㆍ 업무 장비 지원 필요한 장비는 바로바로 ㆍ 개인 캐비넷 제공 중요한 물품을 안전하게 ㆍ 경조사 지원 기쁜일도 슬픈일도 스마일드래곤이 함께 해요.ㆍ 생일자 혜택 정말 맛있는 케이크와 2시간 조기 퇴근ㆍ 평가에 따른 고속 승진 제도 열심히 한 만큼 돌려드려요 ㆍ 카페테리아 운영 커피, 수다 등 일하다가 언제든지 편하게 ㆍ 4대 보험 적용 및 퇴직연금 제도 기본이죠 Plus 우리 회사 이런점이 좋아요 ㆍ 본인이 열심히 한 만큼 고속 승진이 가능해요. (차별 없는 대우가 인재를 떠나게 하는 법.)ㆍ 구성원 각자의 행복을 진심으로 추구하기 때문에 조직 문화가 세심하게 잘 발달되어 있어요.ㆍ 회사의 이윤을 구성원 모두와 나눌 수 있도록 복지에 신경을 많이 써요.ㆍ 원티드스페이스로 조직관리를 보다 효율적으로 해요.ㆍ 모두가 열심히 일하는 긍정적인 에너지가 가득한 회사 입니다. 전형절차1. 서류 접수2. 실무 면접3. 컬쳐핏 면접4. 합격 발표 및 처우 협의 경우에 따라 컬쳐핏 면접은 실무 면접과 한 번에 이루어 질 수 있습니다. 포지션에 따라 실무 면접 전 사전과제 전형이 추가될 수 있습니다. 확인 및 주의사항접수 기간- 상시채용 ( 채용 시 공고 마감 )접수 방법- 자사 사이트- 채용 사이트 온라인 입사지원제출 서류- 이력서- 포트폴리오- 병역특례의 경우 사전에 편입/전직이 가능한 지 반드시 확인 후 지원 바랍니다.- 정규직 채용의 경우 3개월의 수습기간이 있습니다.- 지원서류 내용이 사실과 다를 경우, 채용 확정 이후라도 채용이 취소될 수 있습니다.',\n",
       " 'stacks': 'Node.js, 프론트엔드 개발, Git, GitHub, React, Next.js, TypeScript, emotion, yarn-berry, rollup, JavaScript, CSS, HTML, Sass/scss, storybook'}"
      ]
     },
     "execution_count": 16,
     "metadata": {},
     "output_type": "execute_result"
    }
   ],
   "source": [
    "rocketpunch_data[0]"
   ]
  },
  {
   "cell_type": "code",
   "execution_count": 10,
   "metadata": {},
   "outputs": [
    {
     "name": "stderr",
     "output_type": "stream",
     "text": [
      "/home/hadoop/workspace/FPT5/.venv/lib/python3.11/site-packages/tqdm/auto.py:21: TqdmWarning: IProgress not found. Please update jupyter and ipywidgets. See https://ipywidgets.readthedocs.io/en/stable/user_install.html\n",
      "  from .autonotebook import tqdm as notebook_tqdm\n"
     ]
    }
   ],
   "source": [
    "\"\"\"\n",
    "Install the Google AI Python SDK\n",
    "\n",
    "$ pip install google-generativeai\n",
    "\"\"\"\n",
    "\n",
    "import google.generativeai as genai\n",
    "\n",
    "#genai.configure(api_key=os.environ[\"GEMINI_API_KEY\"])\n",
    "genai.configure(api_key=gemini_api_key['GEMINI_API'])\n",
    "\n",
    "# Create the model\n",
    "generation_config = {\n",
    "  \"temperature\": 0.7,\n",
    "  \"top_p\": 0.95,\n",
    "  \"top_k\": 64,\n",
    "  \"max_output_tokens\": 8192,\n",
    "  \"response_mime_type\": \"text/plain\",\n",
    "}\n",
    "\n",
    "model = genai.GenerativeModel(\n",
    "  model_name=\"gemini-1.5-flash\",\n",
    "  generation_config=generation_config,\n",
    "  # safety_settings = Adjust safety settings\n",
    "  # See https://ai.google.dev/gemini-api/docs/safety-settings\n",
    ")\n",
    "\n",
    "chat_session = model.start_chat(\n",
    "  history=[\n",
    "  ]\n",
    ")"
   ]
  },
  {
   "cell_type": "code",
   "execution_count": 11,
   "metadata": {},
   "outputs": [
    {
     "data": {
      "text/plain": [
       "{'company_id': Decimal('3260'),\n",
       " 'site_symbol': 'WAN',\n",
       " 'job_title': 'QA 엔지니어',\n",
       " 'job_prefer': 'CSTE, ISTQB, CSTS 등 자격증 보유자 성능테스트, 자동화테스트 경험자 개발 경력 보유자 CI/CD에 대한 이해와 경험 우대 Jenkins 등',\n",
       " 'crawl_url': 'https://www.wanted.co.kr/wd/19232',\n",
       " 'end_date': None,\n",
       " 'job_id': Decimal('19232'),\n",
       " 'crawl_domain': 'www.wanted.co.kr',\n",
       " 'company_name': '모노리스',\n",
       " 'get_date': Decimal('1724605651'),\n",
       " 'job_tasks': 'Mobile App, Mobile Web, Back-office, 예약,판매관리시스템 등 모노리스에서 운영하는 서비스의 전반적인 품질 관리 서비스를 구성하는 전장, 트랙 센서 등 IoT 기기들에 적용되는 소프트웨어 품질 관리 소프트웨어 요구사항 및 구성에 대한 리뷰 피드백 결함 보고, 추적 및 분석에 따른 이슈 관리 개발 프로세스에서 다양한 기술이나 기법을 적용 더 좋은 개발문화를 함께 만들기',\n",
       " 'id': Decimal('434466414'),\n",
       " 'job_requirements': '5년 이상의 QA 업무 경험 iOS/Android Mobile Application QA 경험자 컴퓨터 관련 학과 졸업 or 그에 상응하는 역량 보유 빠른 프로세스에 유연하게 대응이 가능하신 분'}"
      ]
     },
     "execution_count": 11,
     "metadata": {},
     "output_type": "execute_result"
    }
   ],
   "source": [
    "wanted_data[6]"
   ]
  },
  {
   "cell_type": "code",
   "execution_count": null,
   "metadata": {},
   "outputs": [],
   "source": [
    "# WANTED propmt\n",
    "\n",
    "# tech_stack_list = [\"programming languages\", \"frameworks\", \"databases\", \"cloud services\", \"devops tools\", \"version control tools\", \"ci cd tools\", \"testing tools\", \"package management tools\", \"api management tools\"]\n",
    "# tech_stack_list_str = ', '.join(tech_stack_list)\n",
    "info_keys = [\"job_title\", \"job_prefer\", \"job_task\", \"job_requirements\"]\n",
    "info_keys_str = ', '.join(info_keys)\n",
    "input_data = str(wanted_data[6])\n",
    "input_text = f\"\"\"[문맥]\\n당신은 IT-Software 전문 도메인을 가진 데이터 전문가입니다. 주어진 json형태의 데이터에서 필요한 데이터를 추출하거나 요약하는 임무를 맡았습니다.\n",
    "[Instruction]\n",
    "Input Data에서 주어진 json 포맷의 텍스트 데이터에서 {info_keys_str} key의 value 값을 바탕으로 아래에 주어진 key 값들에 대한 value 값을 채워주세요. 단, 모를 경우 \\\"null\\\"을 넣어주세요.\n",
    "- `dev_stack`: Input Data를 기반으로 유추하거나 추출한 개발에 사용되는 프로그램 기술의 모음입니다. 해당 key의 value는 항상 영단어로 이루어진 list여야 합니다.\n",
    "- `job_requirements`: Input data를 기반으로 유추한 직무의 요구사항입니다. 결과는 한글로 된 열 개 단어 이하인 문장 또는 단어이며, list 포맷으로 제시됩니다.\n",
    "- `job_prefer`: Input data를 기반으로 유추한 직무의 우대사항입니다. 결과는 한글로 된 열 개 단어 이하의 문장 또는 단어이며, list 포맷으로 제시됩니다.\n",
    "- `job_category`: Input Data를 기반으로 유추한 직무(position) 분류 입니다. 결과는 영단어로 이루어진 list여야 합니다.\n",
    "- `indurstry_type`: Input Data에서 유추한 직무의 산업 분류입니다. value 값은 영단어로 이루어진 list여야 합니다.\n",
    "- `required_career`: Input Data에서 경력을 요구유무를 나타냅니다. 경력일 경우 `True` BOOLEAN값을, 신입일 경우 `False` BOOLEAN값을 넣어주세요.\n",
    "[Input Data]\n",
    "{input_data}\"\"\"\n",
    "#input_text = f\"[문맥]\\n당신은 IT-Software 전문 도메인을 가진 데이터 전문가입니다. 주어진 json형태의 데이터에서 필요한 데이터를 추출하거나 요약하는 임무를 맡았습니다.\\n[Instruction]\\nInput Data에서 주어진 json 포맷의 텍스트 데이터에서 {info_keys_str} key의 value 값을 바탕으로 아래에 주어진 key 값들에 대한 value 값을 채워주세요. 단, 모를 경우 \\\"null\\\"을 넣어주세요.\\n- `tech_stack`: Input Data를 기반으로 유추하거나 추출한 개발에 사용되는 기술의 모음입니다. 해당 key의 value는 항상 영단어로 이루어진 list여야 합니다.\\n- `job_requirements`: Input data를 기반으로 유추한 직무의 요구사항입니다. 결과는 한글로 된 열 개 단어 이하인 문장 또는 단어이며, list 포맷으로 제시됩니다.\\n- `job_prefer`: Input data를 기반으로 유추한 직무의 우대사항입니다. 결과는 한글로 된 열 개 단어 이하의 문장 또는 단어이며, list 포맷으로 제시됩니다.\\n- `job_category`: Input Data를 기반으로 유추한 직무(position) 분류 입니다. 결과는 영단어로 이루어진 list여야 합니다.\\n- `indurstry_type`: Input Data에서 유추한 직무의 산업 분류입니다. value 값은 영단어로 이루어진 list여야 합니다.\\n- `required_career`: Input Data에서 경력을 요구유무를 나타냅니다. 경력일 경우 `True` BOOLEAN값을, 신입일 경우 `False` BOOLEAN값을 넣어주세요.\\n[Input Data]\\n{input_data}\"\n",
    "response = chat_session.send_message(input_text)\n",
    "\n",
    "print(response.text)"
   ]
  },
  {
   "cell_type": "code",
   "execution_count": null,
   "metadata": {},
   "outputs": [],
   "source": [
    "# jobkorea propmt\n",
    "\n",
    "info_keys = [\"indurstry_type\", \"job_title\", \"job_category\", \"job_tasks\", \"stacks\"]\n",
    "info_keys_str = ', '.join(info_keys)\n",
    "input_data = str(jobkorea_data[3])\n",
    "input_text = f\"[문맥]\\n당신은 IT-Software 전문 도메인을 가진 데이터 전문가입니다. 주어진 json형태의 데이터에서 필요한 데이터를 추출하거나 요약하는 임무를 맡았습니다.\\n[Instruction]\\nInput Data에서 주어진 json 데이터에서 {info_keys_str} key의 값을 바탕으로 아래에 주어진 key 값들에 대한 value 값을 채워주세요. 단, 모를 경우 \\\"null\\\"을 넣어주세요. \\n- `tech_stack`: Input Data를 기반으로 유추하거나 추출한 개발에 사용되는 기술의 모음입니다. 결과는 항상 영단어로 이루어진 list여야 합니다.\\n- `job_requirements`: Input data를 기반으로 유추한 직무의 요구사항입니다. 결과는 한글로 된 열 개 단어 이하인 문장 또는 단어이며, list 포맷으로 제시됩니다.\\n- `job_prefer`: Input data를 기반으로 유추한 직무의 우대사항입니다. 결과는 한글로 된 열 개 단어 이하의 문장 또는 단어이며, list 포맷으로 제시됩니다.\\n- `job_category`: Input Data를 기반으로 유추한 직무(position) 분류 입니다. 결과는 영단어로 이루어진 list여야 합니다.\\n- `indurstry_type`: Input Data의 직무의 산업 분류입니다. 결과는 영단어로 이루어진 list여야 합니다.\\n[Input Data]\\n{input_data}\"\n",
    "response = chat_session.send_message(input_text)\n",
    "\n",
    "print(response.text)"
   ]
  },
  {
   "cell_type": "code",
   "execution_count": 27,
   "metadata": {},
   "outputs": [
    {
     "name": "stdout",
     "output_type": "stream",
     "text": [
      "```json\n",
      "{\n",
      "  \"dev_stack\": [\n",
      "    \"Python\",\n",
      "    \"Linux\",\n",
      "    \"C++\",\n",
      "    \"Docker\",\n",
      "    \"OpenCV\"\n",
      "  ],\n",
      "  \"job_requirements\": [\n",
      "    \"개발 경력 3년 이상\",\n",
      "    \"B2B 애플리케이션 개발 및 배포 경험\",\n",
      "    \"C/C++, Python 개발 가능\",\n",
      "    \"AI 비전 프로젝트 배포 경험\",\n",
      "    \"객체 지향 프로그래밍 가능\",\n",
      "    \"팀워크 및 의사소통 능력\",\n",
      "    \"스타트업 근무 경험\",\n",
      "    \"책임감\"\n",
      "  ],\n",
      "  \"job_prefer\": [\n",
      "    \"자동화 프로젝트 개발 및 양산 적용 경험\",\n",
      "    \"비전 광학계 설계 경험\",\n",
      "    \"산업용 로봇 or 협동 로봇 이해\",\n",
      "    \"Linux 환경 개발 경험\",\n",
      "    \"3D 측정, 검사 경험\",\n",
      "    \"딥러닝 모델 개발 경험\",\n",
      "    \"정량적 결과 도출 능력\"\n",
      "  ],\n",
      "  \"job_category\": [\n",
      "    \"Software Engineer\",\n",
      "    \"AI Engineer\",\n",
      "    \"Robotics Engineer\"\n",
      "  ],\n",
      "  \"indurstry_type\": [\n",
      "    \"Robotics\",\n",
      "    \"AI\",\n",
      "    \"Industrial Automation\",\n",
      "    \"Software\",\n",
      "    \"Technology\"\n",
      "  ]\n",
      "}\n",
      "```\n"
     ]
    }
   ],
   "source": [
    "# ROCKET-PUNCH propmt\n",
    "\n",
    "info_keys = [\"indurstry_type\", \"job_tasks\", \"job_requirements\", \"stacks\"]\n",
    "info_keys_str = ', '.join(info_keys)\n",
    "input_data = str(rocketpunch_data[10])\n",
    "input_text = f\"\"\"\n",
    "[문맥]\n",
    "당신은 IT-Software 전문 도메인을 가진 데이터 전문가입니다. 주어진 json형태의 데이터에서 필요한 데이터를 추출하거나 요약하는 임무를 맡았습니다.\n",
    "[Instruction]\n",
    "Input Data에서 주어진 json 포맷의 텍스트 데이터에서 {info_keys_str} key의 value 값을 바탕으로 아래에 주어진 key 값들에 대한 value 값을 채워주세요. 단, 모를 경우 \\\"null\\\"을 넣어주세요.\n",
    "- `dev_stack`: Input Data를 기반으로 유추하거나 추출한 개발에 사용되는 프로그램 기술의 모음입니다. 해당 key의 value는 항상 영단어로 이루어진 list여야 합니다.\n",
    "- `job_requirements`: Input data를 기반으로 유추한 직무의 요구사항입니다. 결과는 한글로 된 열 개 단어 이하인 문장 또는 단어이며, list 포맷으로 제시됩니다.\n",
    "- `job_prefer`: Input data를 기반으로 유추한 직무의 우대사항입니다. 결과는 한글로 된 열 개 단어 이하의 문장 또는 단어이며, list 포맷으로 제시됩니다.\n",
    "- `job_category`: Input Data를 기반으로 유추한 직무(position) 분류 입니다. 결과는 영단어로 이루어진 list여야 합니다.\n",
    "- `indurstry_type`: Input Data에서 유추한 직무의 산업 분류입니다. value 값은 영단어로 이루어진 list여야 합니다.\n",
    "[Input Data]\n",
    "{input_data}\"\"\"\n",
    "#input_text = f\"[문맥]\\n당신은 IT-Software 전문 도메인을 가진 데이터 전문가입니다. 주어진 json형태의 데이터에서 필요한 데이터를 추출하거나 요약하는 임무를 맡았습니다.\\n[Instruction]\\nInput Data에서 주어진 json 포맷의 텍스트 데이터에서 {info_keys_str} key의 value 값을 바탕으로 아래에 주어진 key 값들에 대한 value 값을 채워주세요. 단, 모를 경우 \\\"null\\\"을 넣어주세요.\\n- `tech_stack`: Input Data를 기반으로 유추하거나 추출한 개발에 사용되는 기술의 모음입니다. 해당 key의 value는 항상 영단어로 이루어진 list여야 합니다.\\n- `job_requirements`: Input data를 기반으로 유추한 직무의 요구사항입니다. 결과는 한글로 된 열 개 단어 이하인 문장 또는 단어이며, list 포맷으로 제시됩니다.\\n- `job_prefer`: Input data를 기반으로 유추한 직무의 우대사항입니다. 결과는 한글로 된 열 개 단어 이하의 문장 또는 단어이며, list 포맷으로 제시됩니다.\\n- `job_category`: Input Data를 기반으로 유추한 직무(position) 분류 입니다. 결과는 영단어로 이루어진 list여야 합니다.\\n- `indurstry_type`: Input Data에서 유추한 직무의 산업 분류입니다. value 값은 영단어로 이루어진 list여야 합니다.\\n- `required_career`: Input Data에서 경력을 요구유무를 나타냅니다. 경력일 경우 `True` BOOLEAN값을, 신입일 경우 `False` BOOLEAN값을 넣어주세요.\\n[Input Data]\\n{input_data}\"\n",
    "response = chat_session.send_message(input_text)\n",
    "\n",
    "print(response.text)"
   ]
  },
  {
   "cell_type": "code",
   "execution_count": 25,
   "metadata": {},
   "outputs": [
    {
     "data": {
      "text/plain": [
       "{'indurstry_type': '헬스케어',\n",
       " 'site_symbol': 'RP',\n",
       " 'crawl_url': 'https://www.rocketpunch.com/jobs/119282',\n",
       " 'start_date': Decimal('1714834800'),\n",
       " 'get_date': Decimal('1724227362'),\n",
       " 'job_tasks': '스프린트 팀은 누구나 꾸준히 건강 관리를 할 수 있게 도와준다는 미션 아래 꾸준히 할 수 있는 환경을 만들어주기 위해 고민하고 실험하고 있습니다.- 스프린트는 건강 관리, 그 중 불편했던 식단 기록을 혁신적으로 바꾸고 있는 스타트업입니다. 미친듯이 편리한 사용성으로 업계 평균 대비 높은 리텐션을 달성하고 있습니다.- 출시 후 마케팅 집행 없이 순수 유입과 사용자 간 추천만으로 꾸준하게 성장하고 있습니다. 좋은 제품을 만들어 초기 사용자를 만족시키고 만족한 사용자가 주변 사람을 데려오는 모델로 커가고 있습니다.- 비전을 같이 바라봐주는 든든한 투자자님들에게 성장성과 사업성을 인정받아 투자를 받았습니다. 또 여러 유명 기관투자자에게서 투자 제안을 받고 있습니다.- 꾸준한 성장과 탄탄한 재방문율을 바탕으로 대한민국 뿐만 아니라 하반기에는 전 세계 사용자에게 새로운 가치를 전달하려고 합니다.',\n",
       " 'required_career': False,\n",
       " 'id': Decimal('488899403'),\n",
       " 'crawl_domain': 'www.rocketpunch.com',\n",
       " 'job_requirements': '담당업무 안정적이고 높은 성능을 가진 모던 웹 애플리케이션 개발 Git 플로우를 통한 전체적인 소프트웨어 프로세스 관리 및 테스트 서비스 운영 모니터링 및 장애 대응자격요건 꾸준하게, 높은 품질을 가진 산출물을 약속한 시간 안에 만들 수 있는 팀 플레이어 현재 방식에 만족하지 않고, 생산성을 더 올릴 수 있는 방법을 끊임없이 고민하는 팀 플레이어 알맞은 때에, 좋은 커뮤니케이션 능력으로 피드백을 주고 받는 것을 즐기는 팀 플레이어우대사항 소프트웨어 개발 경력 1년 이상 혹은 그에 준하는 실력 Kotlin / Sprint Boot 사용 경험 Angular / TypeScript 사용 경험 서비스 운영 경험 및 모니터링 경험이 있으신 분 문제 정의 능력이 뛰어나고, 현재 할당된 리소스에 따른 우선 순위 설정이 뛰어나신 분 개발 및 운영을 하면서 예상되는 문제를 예측할 수 있고, 미리 대응 할 수 있는 준비를 하실 수 있는 분',\n",
       " 'stacks': 'TypeScript, Angluar7, Kotlin, Amazon Web Services, Git, 프론트엔드 개발, angular, type-script, TailwindCSS, Tailwind CSS, jooq, JPA'}"
      ]
     },
     "execution_count": 25,
     "metadata": {},
     "output_type": "execute_result"
    }
   ],
   "source": [
    "rocketpunch_data[7]"
   ]
  },
  {
   "cell_type": "code",
   "execution_count": null,
   "metadata": {},
   "outputs": [],
   "source": []
  },
  {
   "cell_type": "code",
   "execution_count": null,
   "metadata": {},
   "outputs": [
    {
     "name": "stdout",
     "output_type": "stream",
     "text": [
      "```json\n",
      "{\n",
      "  \"dev_stack\": [\n",
      "    \"Java\",\n",
      "    \"JavaScript\",\n",
      "    \"Spring\",\n",
      "    \"Oracle\",\n",
      "    \"MSSQL\",\n",
      "    \"AWS\",\n",
      "    \"Azure\",\n",
      "    \"Google Cloud\"\n",
      "  ],\n",
      "  \"job_requirements\": [\n",
      "    \"IT 프로젝트 수행 경력 6년 이상\",\n",
      "    \"PL 수행 경험 2년 이상\",\n",
      "    \"웹 프로그래밍 능숙자\",\n",
      "    \"RDBMS 활용 가능자\",\n",
      "    \"고객 요구사항 분석 및 시스템 설계 가능자\"\n",
      "  ],\n",
      "  \"job_prefer\": [\n",
      "    \"구매 관련 프로젝트 수행 경력\",\n",
      "    \"엠로 개발 프레임워크 및 유사 SCM 솔루션 개발 경험\",\n",
      "    \"클라우드 플랫폼 경험\",\n",
      "    \"프로젝트 관리 자격증 보유\"\n",
      "  ],\n",
      "  \"job_category\": [\n",
      "    \"Server\",\n",
      "    \"Backend\",\n",
      "    \"Frontend\"\n",
      "  ],\n",
      "  \"indurstry_type\": [\n",
      "    \"IT\",\n",
      "    \"Software\",\n",
      "    \"SCM\"\n",
      "  ]\n",
      "}\n",
      "```\n"
     ]
    }
   ],
   "source": [
    "# PROGRAMMERS prompt\n",
    "info_keys = [\"job_title\", \"job_prefer\", \"job_task\", \"job_requirements\", \"job_category\", \"job_requirements\"]\n",
    "info_keys_str = ', '.join(info_keys)\n",
    "input_data = str(programmers_data[0])\n",
    "input_text = f\"\"\"[문맥]\\n당신은 IT-Software 전문 도메인을 가진 데이터 전문가입니다. 주어진 json형태의 데이터에서 필요한 데이터를 추출하거나 요약하는 임무를 맡았습니다.\n",
    "[Instruction]\n",
    "Input Data에서 주어진 json 포맷의 텍스트 데이터에서 {info_keys_str} key의 value 값을 바탕으로 아래에 주어진 key 값들에 대한 value 값을 채워주세요. 단, 모를 경우 \\\"null\\\"을 넣어주세요.\n",
    "- `dev_stack`: Input Data를 기반으로 유추하거나 추출한 개발에 사용되는 프로그램 기술의 모음입니다. 해당 key의 value는 항상 영단어로 이루어진 list여야 합니다.\n",
    "- `job_requirements`: Input data를 기반으로 유추한 직무의 요구사항입니다. 결과는 한글로 된 열 개 단어 이하인 문장 또는 단어이며, list 포맷으로 제시됩니다.\n",
    "- `job_prefer`: Input data를 기반으로 유추한 직무의 우대사항입니다. 결과는 한글로 된 열 개 단어 이하의 문장 또는 단어이며, list 포맷으로 제시됩니다.\n",
    "- `job_category`: Input Data를 기반으로 유추한 직무(position) 분류 입니다. 결과는 영단어로 이루어진 list여야 합니다.\n",
    "- `indurstry_type`: Input Data에서 유추한 직무의 산업 분류입니다. value 값은 영단어로 이루어진 list여야 합니다.\n",
    "[Input Data]\n",
    "{input_data}\"\"\"\n",
    "#input_text = f\"[문맥]\\n당신은 IT-Software 전문 도메인을 가진 데이터 전문가입니다. 주어진 json형태의 데이터에서 필요한 데이터를 추출하거나 요약하는 임무를 맡았습니다.\\n[Instruction]\\nInput Data에서 주어진 json 포맷의 텍스트 데이터에서 {info_keys_str} key의 value 값을 바탕으로 아래에 주어진 key 값들에 대한 value 값을 채워주세요. 단, 모를 경우 \\\"null\\\"을 넣어주세요.\\n- `tech_stack`: Input Data를 기반으로 유추하거나 추출한 개발에 사용되는 기술의 모음입니다. 해당 key의 value는 항상 영단어로 이루어진 list여야 합니다.\\n- `job_requirements`: Input data를 기반으로 유추한 직무의 요구사항입니다. 결과는 한글로 된 열 개 단어 이하인 문장 또는 단어이며, list 포맷으로 제시됩니다.\\n- `job_prefer`: Input data를 기반으로 유추한 직무의 우대사항입니다. 결과는 한글로 된 열 개 단어 이하의 문장 또는 단어이며, list 포맷으로 제시됩니다.\\n- `job_category`: Input Data를 기반으로 유추한 직무(position) 분류 입니다. 결과는 영단어로 이루어진 list여야 합니다.\\n- `indurstry_type`: Input Data에서 유추한 직무의 산업 분류입니다. value 값은 영단어로 이루어진 list여야 합니다.\\n- `required_career`: Input Data에서 경력을 요구유무를 나타냅니다. 경력일 경우 `True` BOOLEAN값을, 신입일 경우 `False` BOOLEAN값을 넣어주세요.\\n[Input Data]\\n{input_data}\"\n",
    "response = chat_session.send_message(input_text)\n",
    "\n",
    "print(response.text)"
   ]
  },
  {
   "cell_type": "code",
   "execution_count": null,
   "metadata": {},
   "outputs": [
    {
     "data": {
      "text/plain": [
       "{'company_id': Decimal('1023'),\n",
       " 'site_symbol': 'PRO',\n",
       " 'job_title': '프로그램 개발 엔지니어(PM/PL)',\n",
       " 'job_category': '서버/백엔드, 프론트엔드',\n",
       " 'job_prefer': '구매 관련 프로젝트 수행 경력 보유자 엠로 개발프레임워크 및 유사 SCM 솔루션 개발 경험자 클라우드 플랫폼(AWS, Azure, Google Cloud) 경험 우대 프로젝트 관리 자격증(PMP) 보유자',\n",
       " 'crawl_url': 'https://career.programmers.co.kr/api/job_positions/8394',\n",
       " 'end_date': None,\n",
       " 'status': 'released',\n",
       " 'post_status': True,\n",
       " 'required_career': True,\n",
       " 'job_id': Decimal('8394'),\n",
       " 'crawl_domain': 'https://career.programmers.co.kr/',\n",
       " 'company_name': '엠로',\n",
       " 'resume_required': True,\n",
       " 'start_date': '2024-07-03',\n",
       " 'get_date': Decimal('20240828'),\n",
       " 'job_tasks': '공급망관리(SCM) 솔루션 설계 및 개발 구매업무 프로세스 최적화 및 시스템 구축 프로젝트 수행 고객 요구사항 분석 및 솔루션 제안',\n",
       " 'id': Decimal('2902426399'),\n",
       " 'stacks': 'Java, JavaScript, Spring, Oracle, MSSQL(Microsoft SQL Server)',\n",
       " 'job_requirements': 'IT 프로젝트 수행 경력 6년 이상 (PL 수행경험 2년 이상 포함) 웹 프로그래밍 능숙자 (Java, JavaScript, Spring framework 등) RDBMS(Oracle, MS-SQL, MySQL, PostgreSQL 등) 활용가능자 고객 요구사항 분석 및 시스템 설계 가능자'}"
      ]
     },
     "metadata": {},
     "output_type": "display_data"
    }
   ],
   "source": [
    "programmers_data[0]"
   ]
  }
 ],
 "metadata": {
  "kernelspec": {
   "display_name": ".venv",
   "language": "python",
   "name": "python3"
  },
  "language_info": {
   "codemirror_mode": {
    "name": "ipython",
    "version": 3
   },
   "file_extension": ".py",
   "mimetype": "text/x-python",
   "name": "python",
   "nbconvert_exporter": "python",
   "pygments_lexer": "ipython3",
   "version": "3.11.0rc1"
  }
 },
 "nbformat": 4,
 "nbformat_minor": 2
}
