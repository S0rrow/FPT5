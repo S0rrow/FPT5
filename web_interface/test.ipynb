{
 "cells": [
  {
   "cell_type": "code",
   "execution_count": 2,
   "metadata": {},
   "outputs": [],
   "source": [
    "import pandas as pd\n",
    "from sqlalchemy import create_engine\n",
    "import json"
   ]
  },
  {
   "cell_type": "code",
   "execution_count": 3,
   "metadata": {},
   "outputs": [],
   "source": [
    "config_path='.aws/credentials.json'\n",
    "with open(config_path, 'r') as f:\n",
    "    credentials = json.load(f)\n",
    "user = credentials.get(\"USER\")\n",
    "password = credentials.get(\"PASSWORD\")\n",
    "host = credentials.get(\"ENDPOINT\")\n",
    "port = credentials.get(\"PORT\")\n",
    "connection_string = f\"mysql+pymysql://{user}:{password}@{host}:{port}/{database}\"\n",
    "engine = create_engine(connection_string)"
   ]
  },
  {
   "cell_type": "code",
   "execution_count": 4,
   "metadata": {},
   "outputs": [],
   "source": [
    "query = \"SELECT * FROM job_information\"\n",
    "try:\n",
    "    with engine.connect() as connection:\n",
    "        df = pd.read_sql(query, connection)\n",
    "except Exception as e:\n",
    "    print(f\"Exception occurred : {e}\")"
   ]
  },
  {
   "cell_type": "code",
   "execution_count": 5,
   "metadata": {},
   "outputs": [
    {
     "data": {
      "text/html": [
       "<div>\n",
       "<style scoped>\n",
       "    .dataframe tbody tr th:only-of-type {\n",
       "        vertical-align: middle;\n",
       "    }\n",
       "\n",
       "    .dataframe tbody tr th {\n",
       "        vertical-align: top;\n",
       "    }\n",
       "\n",
       "    .dataframe thead th {\n",
       "        text-align: right;\n",
       "    }\n",
       "</style>\n",
       "<table border=\"1\" class=\"dataframe\">\n",
       "  <thead>\n",
       "    <tr style=\"text-align: right;\">\n",
       "      <th></th>\n",
       "      <th>job_title</th>\n",
       "      <th>company_name</th>\n",
       "      <th>country</th>\n",
       "      <th>salary</th>\n",
       "      <th>remote</th>\n",
       "      <th>job_category</th>\n",
       "      <th>stacks</th>\n",
       "      <th>required_career</th>\n",
       "      <th>start_date</th>\n",
       "      <th>end_date</th>\n",
       "      <th>domain</th>\n",
       "      <th>URL</th>\n",
       "    </tr>\n",
       "  </thead>\n",
       "  <tbody>\n",
       "    <tr>\n",
       "      <th>0</th>\n",
       "      <td>Backend Software Engineer</td>\n",
       "      <td>quotabook</td>\n",
       "      <td>South Korea</td>\n",
       "      <td>None</td>\n",
       "      <td>0</td>\n",
       "      <td>Backend Engineer</td>\n",
       "      <td>['Python', 'Django', 'Docker', 'AWS EKS', 'Git...</td>\n",
       "      <td>1</td>\n",
       "      <td>None</td>\n",
       "      <td>None</td>\n",
       "      <td>https://programmers.co.kr/</td>\n",
       "      <td>https://career.programmers.co.kr/job_positions...</td>\n",
       "    </tr>\n",
       "  </tbody>\n",
       "</table>\n",
       "</div>"
      ],
      "text/plain": [
       "                   job_title company_name      country salary  remote  \\\n",
       "0  Backend Software Engineer    quotabook  South Korea   None       0   \n",
       "\n",
       "       job_category                                             stacks  \\\n",
       "0  Backend Engineer  ['Python', 'Django', 'Docker', 'AWS EKS', 'Git...   \n",
       "\n",
       "   required_career start_date end_date                      domain  \\\n",
       "0                1       None     None  https://programmers.co.kr/   \n",
       "\n",
       "                                                 URL  \n",
       "0  https://career.programmers.co.kr/job_positions...  "
      ]
     },
     "execution_count": 5,
     "metadata": {},
     "output_type": "execute_result"
    }
   ],
   "source": [
    "df.head()"
   ]
  }
 ],
 "metadata": {
  "kernelspec": {
   "display_name": "venv",
   "language": "python",
   "name": "python3"
  },
  "language_info": {
   "codemirror_mode": {
    "name": "ipython",
    "version": 3
   },
   "file_extension": ".py",
   "mimetype": "text/x-python",
   "name": "python",
   "nbconvert_exporter": "python",
   "pygments_lexer": "ipython3",
   "version": "3.11.9"
  }
 },
 "nbformat": 4,
 "nbformat_minor": 2
}
